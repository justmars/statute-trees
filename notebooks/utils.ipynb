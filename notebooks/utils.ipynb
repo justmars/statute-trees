{
 "cells": [
  {
   "cell_type": "code",
   "execution_count": null,
   "metadata": {},
   "outputs": [],
   "source": [
    "from statute_patterns import Rule, StatuteSerialCategory\n",
    "from statute_trees import StatuteBase, StatutePage\n"
   ]
  },
  {
   "cell_type": "code",
   "execution_count": null,
   "metadata": {},
   "outputs": [],
   "source": [
    "cat = StatuteSerialCategory(\"roc\")\n",
    "rule = Rule(cat=cat, id=\"cpr\")"
   ]
  },
  {
   "cell_type": "code",
   "execution_count": null,
   "metadata": {},
   "outputs": [],
   "source": [
    "x = [StatutePage.build(f / \"details.yaml\") for f in rule.extract_folders()]"
   ]
  },
  {
   "cell_type": "code",
   "execution_count": null,
   "metadata": {},
   "outputs": [],
   "source": [
    "x[0]"
   ]
  }
 ],
 "metadata": {
  "kernelspec": {
   "display_name": "Python 3.11.0 ('.venv': poetry)",
   "language": "python",
   "name": "python3"
  },
  "language_info": {
   "codemirror_mode": {
    "name": "ipython",
    "version": 3
   },
   "file_extension": ".py",
   "mimetype": "text/x-python",
   "name": "python",
   "nbconvert_exporter": "python",
   "pygments_lexer": "ipython3",
   "version": "3.11.0"
  },
  "orig_nbformat": 4,
  "vscode": {
   "interpreter": {
    "hash": "e5ec48e2e09a715a28261145eaf64b5a3ce5920fb590588b7f14d160491138cf"
   }
  }
 },
 "nbformat": 4,
 "nbformat_minor": 2
}
