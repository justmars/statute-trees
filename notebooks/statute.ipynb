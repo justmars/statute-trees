{
  "cells": [
    {
      "cell_type": "code",
      "execution_count": 1,
      "metadata": {},
      "outputs": [],
      "source": [
        "%load_ext rich\n",
        "from pathlib import Path\n",
        "from statute_trees.nodes_statute import StatutePage\n",
        "from statute_patterns import Rule\n",
        "import yaml"
      ]
    },
    {
      "cell_type": "code",
      "execution_count": 2,
      "metadata": {},
      "outputs": [
        {
          "data": {
            "text/html": [
              "<pre style=\"white-space:pre;overflow-x:auto;line-height:normal;font-family:Menlo,'DejaVu Sans Mono',consolas,'Courier New',monospace\"><span style=\"color: #800080; text-decoration-color: #800080; font-weight: bold\">PosixPath</span><span style=\"font-weight: bold\">(</span><span style=\"color: #008000; text-decoration-color: #008000\">'/Users/mv/code/corpus/statutes/sc_cir/19/details.yaml'</span><span style=\"font-weight: bold\">)</span>\n",
              "</pre>\n"
            ],
            "text/plain": [
              "\u001b[1;35mPosixPath\u001b[0m\u001b[1m(\u001b[0m\u001b[32m'/Users/mv/code/corpus/statutes/sc_cir/19/details.yaml'\u001b[0m\u001b[1m)\u001b[0m\n"
            ]
          },
          "metadata": {},
          "output_type": "display_data"
        }
      ],
      "source": [
        "stat_folder = Path().home().joinpath(\"code/corpus/statutes\")\n",
        "glob_stat = stat_folder.glob(\"sc_cir/19/details.yaml\")\n",
        "stat_detail = next(glob_stat)\n",
        "stat_detail"
      ]
    },
    {
      "cell_type": "code",
      "execution_count": 3,
      "metadata": {},
      "outputs": [
        {
          "data": {
            "text/html": [
              "<pre style=\"white-space:pre;overflow-x:auto;line-height:normal;font-family:Menlo,'DejaVu Sans Mono',consolas,'Courier New',monospace\">\n",
              "<span style=\"color: #800080; text-decoration-color: #800080; font-weight: bold\">StatutePage</span><span style=\"font-weight: bold\">(</span>\n",
              "    <span style=\"color: #808000; text-decoration-color: #808000\">statute_category</span>=<span style=\"color: #008000; text-decoration-color: #008000\">'sc_cir'</span>,\n",
              "    <span style=\"color: #808000; text-decoration-color: #808000\">statute_serial_id</span>=<span style=\"color: #008000; text-decoration-color: #008000\">'19'</span>,\n",
              "    <span style=\"color: #808000; text-decoration-color: #808000\">created</span>=<span style=\"color: #008080; text-decoration-color: #008080; font-weight: bold\">1666011560.5078828</span>,\n",
              "    <span style=\"color: #808000; text-decoration-color: #808000\">modified</span>=<span style=\"color: #008080; text-decoration-color: #008080; font-weight: bold\">1663728659.1975951</span>,\n",
              "    <span style=\"color: #808000; text-decoration-color: #808000\">emails</span>=<span style=\"font-weight: bold\">[</span><span style=\"color: #008000; text-decoration-color: #008000\">'bot@lawsql.com'</span><span style=\"font-weight: bold\">]</span>,\n",
              "    <span style=\"color: #808000; text-decoration-color: #808000\">id</span>=<span style=\"color: #008000; text-decoration-color: #008000\">'sc-cir-19-december-19-1986'</span>,\n",
              "    <span style=\"color: #808000; text-decoration-color: #808000\">title</span>=<span style=\"color: #008000; text-decoration-color: #008000\">'Law Student Practice Rule'</span>,\n",
              "    <span style=\"color: #808000; text-decoration-color: #808000\">description</span>=<span style=\"color: #008000; text-decoration-color: #008000\">'SC Circular No. 19'</span>,\n",
              "    <span style=\"color: #808000; text-decoration-color: #808000\">date</span>=<span style=\"color: #800080; text-decoration-color: #800080; font-weight: bold\">datetime</span><span style=\"color: #800080; text-decoration-color: #800080; font-weight: bold\">.date</span><span style=\"font-weight: bold\">(</span><span style=\"color: #008080; text-decoration-color: #008080; font-weight: bold\">1986</span>, <span style=\"color: #008080; text-decoration-color: #008080; font-weight: bold\">12</span>, <span style=\"color: #008080; text-decoration-color: #008080; font-weight: bold\">19</span><span style=\"font-weight: bold\">)</span>,\n",
              "    <span style=\"color: #808000; text-decoration-color: #808000\">variant</span>=<span style=\"color: #008080; text-decoration-color: #008080; font-weight: bold\">1</span>,\n",
              "    <span style=\"color: #808000; text-decoration-color: #808000\">units</span>=<span style=\"color: #008000; text-decoration-color: #008000\">'[{\"item\": \"Law Student Practice Rule\", \"id\": \"1.\", \"units\": [{\"item\": \"Rule 138-A\", \"caption\": \"Law Student Practice Rule\", \"id\": \"1.1.\", \"units\": [{\"item\": \"Section 1\", \"caption\": \"Conditions for student practice.\", \"content\": \"A law student who has successfully completed his 3rd year of the regular four-year prescribed law curriculum and is enrolled in a recognized law school\\'s clinical legal education program approved by the Supreme Court, may appear without compensation in any civil, criminal or administrative case before any trial court, tribunal, board or officer, to represent indigent clients accepted by the legal clinic of the law school.\", \"id\": \"1.1.1.\", \"units\": []}, {\"item\": \"Section 2\", \"caption\": \"Appearance.\", \"content\": \"The appearance of the law student authorized by this rule, shall be under the direct supervision and control of a member of the Integrated Bar of the Philippines duly accredited by the law school. Any and all pleadings, motions, briefs, memoranda or other papers to be filed, must be signed by the supervising attorney for and in behalf of the legal clinic.\", \"id\": \"1.1.2.\", \"units\": []}, {\"item\": \"Section 3\", \"caption\": \"Privileged communications.\", \"content\": \"The Rules safeguarding privileged communications between attorney and client shall apply to similar communications made to or received by the law student, acting for the legal clinic.\", \"id\": \"1.1.3.\", \"units\": []}, {\"item\": \"Section 4\", \"caption\": \"Standards of conduct and supervision.\", \"content\": \"The law student shall comply with the standards of professional conduct governing members of the Bar. Failure of an attorney to provide adequate supervision of student practice may be a ground for disciplinary action. (Circular No. 19, dated December 19, 1986).\", \"id\": \"1.1.4.\", \"units\": []}]}]}]'</span>,\n",
              "    <span style=\"color: #808000; text-decoration-color: #808000\">titles</span>=<span style=\"font-weight: bold\">[</span>\n",
              "        <span style=\"color: #800080; text-decoration-color: #800080; font-weight: bold\">StatuteTitle</span><span style=\"font-weight: bold\">(</span>\n",
              "            <span style=\"color: #808000; text-decoration-color: #808000\">statute_id</span>=<span style=\"color: #008000; text-decoration-color: #008000\">'sc-cir-19-december-19-1986'</span>,\n",
              "            <span style=\"color: #808000; text-decoration-color: #808000\">category</span>=<span style=\"color: #008000; text-decoration-color: #008000\">'serial'</span>,\n",
              "            <span style=\"color: #808000; text-decoration-color: #808000\">text</span>=<span style=\"color: #008000; text-decoration-color: #008000\">'SC Circular No. 19'</span>\n",
              "        <span style=\"font-weight: bold\">)</span>,\n",
              "        <span style=\"color: #800080; text-decoration-color: #800080; font-weight: bold\">StatuteTitle</span><span style=\"font-weight: bold\">(</span>\n",
              "            <span style=\"color: #808000; text-decoration-color: #808000\">statute_id</span>=<span style=\"color: #008000; text-decoration-color: #008000\">'sc-cir-19-december-19-1986'</span>,\n",
              "            <span style=\"color: #808000; text-decoration-color: #808000\">category</span>=<span style=\"color: #008000; text-decoration-color: #008000\">'official'</span>,\n",
              "            <span style=\"color: #808000; text-decoration-color: #808000\">text</span>=<span style=\"color: #008000; text-decoration-color: #008000\">'Law Student Practice Rule'</span>\n",
              "        <span style=\"font-weight: bold\">)</span>\n",
              "    <span style=\"font-weight: bold\">]</span>,\n",
              "    <span style=\"color: #808000; text-decoration-color: #808000\">tree</span>=<span style=\"font-weight: bold\">[</span>\n",
              "        <span style=\"color: #800080; text-decoration-color: #800080; font-weight: bold\">StatuteUnit</span><span style=\"font-weight: bold\">(</span>\n",
              "            <span style=\"color: #808000; text-decoration-color: #808000\">item</span>=<span style=\"color: #008000; text-decoration-color: #008000\">'Law Student Practice Rule'</span>,\n",
              "            <span style=\"color: #808000; text-decoration-color: #808000\">caption</span>=<span style=\"color: #800080; text-decoration-color: #800080; font-style: italic\">None</span>,\n",
              "            <span style=\"color: #808000; text-decoration-color: #808000\">content</span>=<span style=\"color: #800080; text-decoration-color: #800080; font-style: italic\">None</span>,\n",
              "            <span style=\"color: #808000; text-decoration-color: #808000\">id</span>=<span style=\"color: #008000; text-decoration-color: #008000\">'1.'</span>,\n",
              "            <span style=\"color: #808000; text-decoration-color: #808000\">units</span>=<span style=\"font-weight: bold\">[</span>\n",
              "                <span style=\"color: #800080; text-decoration-color: #800080; font-weight: bold\">StatuteUnit</span><span style=\"font-weight: bold\">(</span>\n",
              "                    <span style=\"color: #808000; text-decoration-color: #808000\">item</span>=<span style=\"color: #008000; text-decoration-color: #008000\">'Rule 138-A'</span>,\n",
              "                    <span style=\"color: #808000; text-decoration-color: #808000\">caption</span>=<span style=\"color: #008000; text-decoration-color: #008000\">'Law Student Practice Rule'</span>,\n",
              "                    <span style=\"color: #808000; text-decoration-color: #808000\">content</span>=<span style=\"color: #800080; text-decoration-color: #800080; font-style: italic\">None</span>,\n",
              "                    <span style=\"color: #808000; text-decoration-color: #808000\">id</span>=<span style=\"color: #008000; text-decoration-color: #008000\">'1.1.'</span>,\n",
              "                    <span style=\"color: #808000; text-decoration-color: #808000\">units</span>=<span style=\"font-weight: bold\">[</span>\n",
              "                        <span style=\"color: #800080; text-decoration-color: #800080; font-weight: bold\">StatuteUnit</span><span style=\"font-weight: bold\">(</span>\n",
              "                            <span style=\"color: #808000; text-decoration-color: #808000\">item</span>=<span style=\"color: #008000; text-decoration-color: #008000\">'Section 1'</span>,\n",
              "                            <span style=\"color: #808000; text-decoration-color: #808000\">caption</span>=<span style=\"color: #008000; text-decoration-color: #008000\">'Conditions for student practice.'</span>,\n",
              "                            <span style=\"color: #808000; text-decoration-color: #808000\">content</span>=<span style=\"color: #008000; text-decoration-color: #008000\">\"A law student who has successfully completed his 3rd year of the regular four-year prescribed law curriculum and is enrolled in a recognized law school's clinical legal education program approved by the Supreme Court, may appear without compensation in any civil, criminal or administrative case before any trial court, tribunal, board or officer, to represent indigent clients accepted by the legal clinic of the law school.\"</span>,\n",
              "                            <span style=\"color: #808000; text-decoration-color: #808000\">id</span>=<span style=\"color: #008000; text-decoration-color: #008000\">'1.1.1.'</span>,\n",
              "                            <span style=\"color: #808000; text-decoration-color: #808000\">units</span>=<span style=\"font-weight: bold\">[]</span>\n",
              "                        <span style=\"font-weight: bold\">)</span>,\n",
              "                        <span style=\"color: #800080; text-decoration-color: #800080; font-weight: bold\">StatuteUnit</span><span style=\"font-weight: bold\">(</span>\n",
              "                            <span style=\"color: #808000; text-decoration-color: #808000\">item</span>=<span style=\"color: #008000; text-decoration-color: #008000\">'Section 2'</span>,\n",
              "                            <span style=\"color: #808000; text-decoration-color: #808000\">caption</span>=<span style=\"color: #008000; text-decoration-color: #008000\">'Appearance.'</span>,\n",
              "                            <span style=\"color: #808000; text-decoration-color: #808000\">content</span>=<span style=\"color: #008000; text-decoration-color: #008000\">'The appearance of the law student authorized by this rule, shall be under the direct supervision and control of a member of the Integrated Bar of the Philippines duly accredited by the law school. Any and all pleadings, motions, briefs, memoranda or other papers to be filed, must be signed by the supervising attorney for and in behalf of the legal clinic.'</span>,\n",
              "                            <span style=\"color: #808000; text-decoration-color: #808000\">id</span>=<span style=\"color: #008000; text-decoration-color: #008000\">'1.1.2.'</span>,\n",
              "                            <span style=\"color: #808000; text-decoration-color: #808000\">units</span>=<span style=\"font-weight: bold\">[]</span>\n",
              "                        <span style=\"font-weight: bold\">)</span>,\n",
              "                        <span style=\"color: #800080; text-decoration-color: #800080; font-weight: bold\">StatuteUnit</span><span style=\"font-weight: bold\">(</span>\n",
              "                            <span style=\"color: #808000; text-decoration-color: #808000\">item</span>=<span style=\"color: #008000; text-decoration-color: #008000\">'Section 3'</span>,\n",
              "                            <span style=\"color: #808000; text-decoration-color: #808000\">caption</span>=<span style=\"color: #008000; text-decoration-color: #008000\">'Privileged communications.'</span>,\n",
              "                            <span style=\"color: #808000; text-decoration-color: #808000\">content</span>=<span style=\"color: #008000; text-decoration-color: #008000\">'The Rules safeguarding privileged communications between attorney and client shall apply to similar communications made to or received by the law student, acting for the legal clinic.'</span>,\n",
              "                            <span style=\"color: #808000; text-decoration-color: #808000\">id</span>=<span style=\"color: #008000; text-decoration-color: #008000\">'1.1.3.'</span>,\n",
              "                            <span style=\"color: #808000; text-decoration-color: #808000\">units</span>=<span style=\"font-weight: bold\">[]</span>\n",
              "                        <span style=\"font-weight: bold\">)</span>,\n",
              "                        <span style=\"color: #800080; text-decoration-color: #800080; font-weight: bold\">StatuteUnit</span><span style=\"font-weight: bold\">(</span>\n",
              "                            <span style=\"color: #808000; text-decoration-color: #808000\">item</span>=<span style=\"color: #008000; text-decoration-color: #008000\">'Section 4'</span>,\n",
              "                            <span style=\"color: #808000; text-decoration-color: #808000\">caption</span>=<span style=\"color: #008000; text-decoration-color: #008000\">'Standards of conduct and supervision.'</span>,\n",
              "                            <span style=\"color: #808000; text-decoration-color: #808000\">content</span>=<span style=\"color: #008000; text-decoration-color: #008000\">'The law student shall comply with the standards of professional conduct governing members of the Bar. Failure of an attorney to provide adequate supervision of student practice may be a ground for disciplinary action. (Circular No. 19, dated December 19, 1986).'</span>,\n",
              "                            <span style=\"color: #808000; text-decoration-color: #808000\">id</span>=<span style=\"color: #008000; text-decoration-color: #008000\">'1.1.4.'</span>,\n",
              "                            <span style=\"color: #808000; text-decoration-color: #808000\">units</span>=<span style=\"font-weight: bold\">[]</span>\n",
              "                        <span style=\"font-weight: bold\">)</span>\n",
              "                    <span style=\"font-weight: bold\">]</span>\n",
              "                <span style=\"font-weight: bold\">)</span>\n",
              "            <span style=\"font-weight: bold\">]</span>\n",
              "        <span style=\"font-weight: bold\">)</span>\n",
              "    <span style=\"font-weight: bold\">]</span>\n",
              "<span style=\"font-weight: bold\">)</span>\n",
              "</pre>\n"
            ],
            "text/plain": [
              "\n",
              "\u001b[1;35mStatutePage\u001b[0m\u001b[1m(\u001b[0m\n",
              "    \u001b[33mstatute_category\u001b[0m=\u001b[32m'sc_cir'\u001b[0m,\n",
              "    \u001b[33mstatute_serial_id\u001b[0m=\u001b[32m'19'\u001b[0m,\n",
              "    \u001b[33mcreated\u001b[0m=\u001b[1;36m1666011560\u001b[0m\u001b[1;36m.5078828\u001b[0m,\n",
              "    \u001b[33mmodified\u001b[0m=\u001b[1;36m1663728659\u001b[0m\u001b[1;36m.1975951\u001b[0m,\n",
              "    \u001b[33memails\u001b[0m=\u001b[1m[\u001b[0m\u001b[32m'bot@lawsql.com'\u001b[0m\u001b[1m]\u001b[0m,\n",
              "    \u001b[33mid\u001b[0m=\u001b[32m'sc-cir-19-december-19-1986'\u001b[0m,\n",
              "    \u001b[33mtitle\u001b[0m=\u001b[32m'Law Student Practice Rule'\u001b[0m,\n",
              "    \u001b[33mdescription\u001b[0m=\u001b[32m'SC Circular No. 19'\u001b[0m,\n",
              "    \u001b[33mdate\u001b[0m=\u001b[1;35mdatetime\u001b[0m\u001b[1;35m.date\u001b[0m\u001b[1m(\u001b[0m\u001b[1;36m1986\u001b[0m, \u001b[1;36m12\u001b[0m, \u001b[1;36m19\u001b[0m\u001b[1m)\u001b[0m,\n",
              "    \u001b[33mvariant\u001b[0m=\u001b[1;36m1\u001b[0m,\n",
              "    \u001b[33munits\u001b[0m=\u001b[32m'\u001b[0m\u001b[32m[\u001b[0m\u001b[32m{\u001b[0m\u001b[32m\"item\": \"Law Student Practice Rule\", \"id\": \"1.\", \"units\": \u001b[0m\u001b[32m[\u001b[0m\u001b[32m{\u001b[0m\u001b[32m\"item\": \"Rule 138-A\", \"caption\": \"Law Student Practice Rule\", \"id\": \"1.1.\", \"units\": \u001b[0m\u001b[32m[\u001b[0m\u001b[32m{\u001b[0m\u001b[32m\"item\": \"Section 1\", \"caption\": \"Conditions for student practice.\", \"content\": \"A law student who has successfully completed his 3rd year of the regular four-year prescribed law curriculum and is enrolled in a recognized law school\\'s clinical legal education program approved by the Supreme Court, may appear without compensation in any civil, criminal or administrative case before any trial court, tribunal, board or officer, to represent indigent clients accepted by the legal clinic of the law school.\", \"id\": \"1.1.1.\", \"units\": \u001b[0m\u001b[32m[\u001b[0m\u001b[32m]\u001b[0m\u001b[32m}\u001b[0m\u001b[32m, \u001b[0m\u001b[32m{\u001b[0m\u001b[32m\"item\": \"Section 2\", \"caption\": \"Appearance.\", \"content\": \"The appearance of the law student authorized by this rule, shall be under the direct supervision and control of a member of the Integrated Bar of the Philippines duly accredited by the law school. Any and all pleadings, motions, briefs, memoranda or other papers to be filed, must be signed by the supervising attorney for and in behalf of the legal clinic.\", \"id\": \"1.1.2.\", \"units\": \u001b[0m\u001b[32m[\u001b[0m\u001b[32m]\u001b[0m\u001b[32m}\u001b[0m\u001b[32m, \u001b[0m\u001b[32m{\u001b[0m\u001b[32m\"item\": \"Section 3\", \"caption\": \"Privileged communications.\", \"content\": \"The Rules safeguarding privileged communications between attorney and client shall apply to similar communications made to or received by the law student, acting for the legal clinic.\", \"id\": \"1.1.3.\", \"units\": \u001b[0m\u001b[32m[\u001b[0m\u001b[32m]\u001b[0m\u001b[32m}\u001b[0m\u001b[32m, \u001b[0m\u001b[32m{\u001b[0m\u001b[32m\"item\": \"Section 4\", \"caption\": \"Standards of conduct and supervision.\", \"content\": \"The law student shall comply with the standards of professional conduct governing members of the Bar. Failure of an attorney to provide adequate supervision of student practice may be a ground for disciplinary action. \u001b[0m\u001b[32m(\u001b[0m\u001b[32mCircular No. 19, dated December 19, 1986\u001b[0m\u001b[32m)\u001b[0m\u001b[32m.\", \"id\": \"1.1.4.\", \"units\": \u001b[0m\u001b[32m[\u001b[0m\u001b[32m]\u001b[0m\u001b[32m}\u001b[0m\u001b[32m]\u001b[0m\u001b[32m}\u001b[0m\u001b[32m]\u001b[0m\u001b[32m}\u001b[0m\u001b[32m]\u001b[0m\u001b[32m'\u001b[0m,\n",
              "    \u001b[33mtitles\u001b[0m=\u001b[1m[\u001b[0m\n",
              "        \u001b[1;35mStatuteTitle\u001b[0m\u001b[1m(\u001b[0m\n",
              "            \u001b[33mstatute_id\u001b[0m=\u001b[32m'sc-cir-19-december-19-1986'\u001b[0m,\n",
              "            \u001b[33mcategory\u001b[0m=\u001b[32m'serial'\u001b[0m,\n",
              "            \u001b[33mtext\u001b[0m=\u001b[32m'SC Circular No. 19'\u001b[0m\n",
              "        \u001b[1m)\u001b[0m,\n",
              "        \u001b[1;35mStatuteTitle\u001b[0m\u001b[1m(\u001b[0m\n",
              "            \u001b[33mstatute_id\u001b[0m=\u001b[32m'sc-cir-19-december-19-1986'\u001b[0m,\n",
              "            \u001b[33mcategory\u001b[0m=\u001b[32m'official'\u001b[0m,\n",
              "            \u001b[33mtext\u001b[0m=\u001b[32m'Law Student Practice Rule'\u001b[0m\n",
              "        \u001b[1m)\u001b[0m\n",
              "    \u001b[1m]\u001b[0m,\n",
              "    \u001b[33mtree\u001b[0m=\u001b[1m[\u001b[0m\n",
              "        \u001b[1;35mStatuteUnit\u001b[0m\u001b[1m(\u001b[0m\n",
              "            \u001b[33mitem\u001b[0m=\u001b[32m'Law Student Practice Rule'\u001b[0m,\n",
              "            \u001b[33mcaption\u001b[0m=\u001b[3;35mNone\u001b[0m,\n",
              "            \u001b[33mcontent\u001b[0m=\u001b[3;35mNone\u001b[0m,\n",
              "            \u001b[33mid\u001b[0m=\u001b[32m'1.'\u001b[0m,\n",
              "            \u001b[33munits\u001b[0m=\u001b[1m[\u001b[0m\n",
              "                \u001b[1;35mStatuteUnit\u001b[0m\u001b[1m(\u001b[0m\n",
              "                    \u001b[33mitem\u001b[0m=\u001b[32m'Rule 138-A'\u001b[0m,\n",
              "                    \u001b[33mcaption\u001b[0m=\u001b[32m'Law Student Practice Rule'\u001b[0m,\n",
              "                    \u001b[33mcontent\u001b[0m=\u001b[3;35mNone\u001b[0m,\n",
              "                    \u001b[33mid\u001b[0m=\u001b[32m'1.1.'\u001b[0m,\n",
              "                    \u001b[33munits\u001b[0m=\u001b[1m[\u001b[0m\n",
              "                        \u001b[1;35mStatuteUnit\u001b[0m\u001b[1m(\u001b[0m\n",
              "                            \u001b[33mitem\u001b[0m=\u001b[32m'Section 1'\u001b[0m,\n",
              "                            \u001b[33mcaption\u001b[0m=\u001b[32m'Conditions for student practice.'\u001b[0m,\n",
              "                            \u001b[33mcontent\u001b[0m=\u001b[32m\"A\u001b[0m\u001b[32m law student who has successfully completed his 3rd year of the regular four-year prescribed law curriculum and is enrolled in a recognized law school's clinical legal education program approved by the Supreme Court, may appear without compensation in any civil, criminal or administrative case before any trial court, tribunal, board or officer, to represent indigent clients accepted by the legal clinic of the law school.\"\u001b[0m,\n",
              "                            \u001b[33mid\u001b[0m=\u001b[32m'1.1.1.'\u001b[0m,\n",
              "                            \u001b[33munits\u001b[0m=\u001b[1m[\u001b[0m\u001b[1m]\u001b[0m\n",
              "                        \u001b[1m)\u001b[0m,\n",
              "                        \u001b[1;35mStatuteUnit\u001b[0m\u001b[1m(\u001b[0m\n",
              "                            \u001b[33mitem\u001b[0m=\u001b[32m'Section 2'\u001b[0m,\n",
              "                            \u001b[33mcaption\u001b[0m=\u001b[32m'Appearance.'\u001b[0m,\n",
              "                            \u001b[33mcontent\u001b[0m=\u001b[32m'The appearance of the law student authorized by this rule, shall be under the direct supervision and control of a member of the Integrated Bar of the Philippines duly accredited by the law school. Any and all pleadings, motions, briefs, memoranda or other papers to be filed, must be signed by the supervising attorney for and in behalf of the legal clinic.'\u001b[0m,\n",
              "                            \u001b[33mid\u001b[0m=\u001b[32m'1.1.2.'\u001b[0m,\n",
              "                            \u001b[33munits\u001b[0m=\u001b[1m[\u001b[0m\u001b[1m]\u001b[0m\n",
              "                        \u001b[1m)\u001b[0m,\n",
              "                        \u001b[1;35mStatuteUnit\u001b[0m\u001b[1m(\u001b[0m\n",
              "                            \u001b[33mitem\u001b[0m=\u001b[32m'Section 3'\u001b[0m,\n",
              "                            \u001b[33mcaption\u001b[0m=\u001b[32m'Privileged communications.'\u001b[0m,\n",
              "                            \u001b[33mcontent\u001b[0m=\u001b[32m'The Rules safeguarding privileged communications between attorney and client shall apply to similar communications made to or received by the law student, acting for the legal clinic.'\u001b[0m,\n",
              "                            \u001b[33mid\u001b[0m=\u001b[32m'1.1.3.'\u001b[0m,\n",
              "                            \u001b[33munits\u001b[0m=\u001b[1m[\u001b[0m\u001b[1m]\u001b[0m\n",
              "                        \u001b[1m)\u001b[0m,\n",
              "                        \u001b[1;35mStatuteUnit\u001b[0m\u001b[1m(\u001b[0m\n",
              "                            \u001b[33mitem\u001b[0m=\u001b[32m'Section 4'\u001b[0m,\n",
              "                            \u001b[33mcaption\u001b[0m=\u001b[32m'Standards of conduct and supervision.'\u001b[0m,\n",
              "                            \u001b[33mcontent\u001b[0m=\u001b[32m'The law student shall comply with the standards of professional conduct governing members of the Bar. Failure of an attorney to provide adequate supervision of student practice may be a ground for disciplinary action. \u001b[0m\u001b[32m(\u001b[0m\u001b[32mCircular No. 19, dated December 19, 1986\u001b[0m\u001b[32m)\u001b[0m\u001b[32m.'\u001b[0m,\n",
              "                            \u001b[33mid\u001b[0m=\u001b[32m'1.1.4.'\u001b[0m,\n",
              "                            \u001b[33munits\u001b[0m=\u001b[1m[\u001b[0m\u001b[1m]\u001b[0m\n",
              "                        \u001b[1m)\u001b[0m\n",
              "                    \u001b[1m]\u001b[0m\n",
              "                \u001b[1m)\u001b[0m\n",
              "            \u001b[1m]\u001b[0m\n",
              "        \u001b[1m)\u001b[0m\n",
              "    \u001b[1m]\u001b[0m\n",
              "\u001b[1m)\u001b[0m\n"
            ]
          },
          "metadata": {},
          "output_type": "display_data"
        }
      ],
      "source": [
        "StatutePage.build(stat_detail)"
      ]
    }
  ],
  "metadata": {
    "kernelspec": {
      "display_name": "Python 3.11.0 ('.venv': poetry)",
      "language": "python",
      "name": "python3"
    },
    "language_info": {
      "codemirror_mode": {
        "name": "ipython",
        "version": 3
      },
      "file_extension": ".py",
      "mimetype": "text/x-python",
      "name": "python",
      "nbconvert_exporter": "python",
      "pygments_lexer": "ipython3",
      "version": "3.11.0"
    },
    "orig_nbformat": 4,
    "vscode": {
      "interpreter": {
        "hash": "e5ec48e2e09a715a28261145eaf64b5a3ce5920fb590588b7f14d160491138cf"
      }
    }
  },
  "nbformat": 4,
  "nbformat_minor": 2
}
