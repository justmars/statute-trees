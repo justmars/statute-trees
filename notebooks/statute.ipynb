{
  "cells": [
    {
      "cell_type": "code",
      "execution_count": null,
      "metadata": {},
      "outputs": [],
      "source": [
        "%load_ext rich\n",
        "from pathlib import Path\n",
        "from statute_trees.nodes_statute import StatutePage\n",
        "from statute_patterns import Rule\n",
        "import yaml"
      ]
    },
    {
      "cell_type": "code",
      "execution_count": null,
      "metadata": {},
      "outputs": [],
      "source": [
        "stat_folder = Path().home().joinpath(\"code/corpus/statutes\")\n",
        "glob_stat = stat_folder.glob(\"sc_cir/19/details.yaml\")\n",
        "stat_detail = next(glob_stat)\n",
        "stat_detail"
      ]
    },
    {
      "cell_type": "code",
      "execution_count": null,
      "metadata": {},
      "outputs": [],
      "source": [
        "StatutePage.build(stat_detail)"
      ]
    }
  ],
  "metadata": {
    "kernelspec": {
      "display_name": "Python 3.11.0 ('.venv': poetry)",
      "language": "python",
      "name": "python3"
    },
    "language_info": {
      "codemirror_mode": {
        "name": "ipython",
        "version": 3
      },
      "file_extension": ".py",
      "mimetype": "text/x-python",
      "name": "python",
      "nbconvert_exporter": "python",
      "pygments_lexer": "ipython3",
      "version": "3.11.0"
    },
    "orig_nbformat": 4,
    "vscode": {
      "interpreter": {
        "hash": "e5ec48e2e09a715a28261145eaf64b5a3ce5920fb590588b7f14d160491138cf"
      }
    }
  },
  "nbformat": 4,
  "nbformat_minor": 2
}
